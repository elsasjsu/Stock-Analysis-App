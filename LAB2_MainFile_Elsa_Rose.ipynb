{
 "cells": [
  {
   "cell_type": "code",
   "execution_count": null,
   "id": "73287c78-81f3-4b17-b270-80a22d7b2b1f",
   "metadata": {},
   "outputs": [
    {
     "name": "stdout",
     "output_type": "stream",
     "text": [
      "\n",
      "Stock Analyzer\n",
      "1. Manage Stocks (Add, Update, Delete, List)\n",
      "2. Add Daily Stock Data (Date, Price, Volume)\n",
      "3. Show Report\n",
      "4. Show Chart\n",
      "5. Manage Data (Save, Load, Retrieve)\n",
      "0. Exit Program\n"
     ]
    },
    {
     "name": "stdin",
     "output_type": "stream",
     "text": [
      "Enter Menu Option:  3\n"
     ]
    },
    {
     "name": "stdout",
     "output_type": "stream",
     "text": [
      "\n",
      "Stock Report\n",
      "No stock data available.\n",
      "\n",
      "Stock Analyzer\n",
      "1. Manage Stocks (Add, Update, Delete, List)\n",
      "2. Add Daily Stock Data (Date, Price, Volume)\n",
      "3. Show Report\n",
      "4. Show Chart\n",
      "5. Manage Data (Save, Load, Retrieve)\n",
      "0. Exit Program\n"
     ]
    },
    {
     "name": "stdin",
     "output_type": "stream",
     "text": [
      "Enter Menu Option:  1\n"
     ]
    },
    {
     "name": "stdout",
     "output_type": "stream",
     "text": [
      "\n",
      "Manage Stocks\n",
      "1. Add Stock\n",
      "2. Update Shares\n",
      "3. Delete Stock\n",
      "4. List Stocks\n",
      "0. Exit Manage Stocks\n"
     ]
    },
    {
     "name": "stdin",
     "output_type": "stream",
     "text": [
      "Enter Menu Option:  1\n"
     ]
    },
    {
     "name": "stdout",
     "output_type": "stream",
     "text": [
      "\n",
      "Add Stock\n"
     ]
    },
    {
     "name": "stdin",
     "output_type": "stream",
     "text": [
      "Enter Ticker Symbol:  MSFT\n",
      "Enter Company Name:  MICROSOFT\n",
      "Enter Number of Shares:  144\n"
     ]
    },
    {
     "name": "stdout",
     "output_type": "stream",
     "text": [
      "Stock Added\n"
     ]
    },
    {
     "name": "stdin",
     "output_type": "stream",
     "text": [
      "Enter to Add Another Stock or 0 to Stop:  \n"
     ]
    },
    {
     "name": "stdout",
     "output_type": "stream",
     "text": [
      "\n",
      "Add Stock\n"
     ]
    },
    {
     "name": "stdin",
     "output_type": "stream",
     "text": [
      "Enter Ticker Symbol:  APPL\n",
      "Enter Company Name:  APPLE\n",
      "Enter Number of Shares:  452\n"
     ]
    },
    {
     "name": "stdout",
     "output_type": "stream",
     "text": [
      "Stock Added\n"
     ]
    },
    {
     "name": "stdin",
     "output_type": "stream",
     "text": [
      "Enter to Add Another Stock or 0 to Stop:  \n"
     ]
    },
    {
     "name": "stdout",
     "output_type": "stream",
     "text": [
      "\n",
      "Add Stock\n"
     ]
    },
    {
     "name": "stdin",
     "output_type": "stream",
     "text": [
      "Enter Ticker Symbol:  MTA\n",
      "Enter Company Name:  META\n",
      "Enter Number of Shares:  488\n"
     ]
    },
    {
     "name": "stdout",
     "output_type": "stream",
     "text": [
      "Stock Added\n"
     ]
    },
    {
     "name": "stdin",
     "output_type": "stream",
     "text": [
      "Enter to Add Another Stock or 0 to Stop:  \n"
     ]
    },
    {
     "name": "stdout",
     "output_type": "stream",
     "text": [
      "\n",
      "Add Stock\n"
     ]
    },
    {
     "name": "stdin",
     "output_type": "stream",
     "text": [
      "Enter Ticker Symbol:  NTFX\n",
      "Enter Company Name:  NETFLIX\n",
      "Enter Number of Shares:  789\n"
     ]
    },
    {
     "name": "stdout",
     "output_type": "stream",
     "text": [
      "Stock Added\n"
     ]
    },
    {
     "name": "stdin",
     "output_type": "stream",
     "text": [
      "Enter to Add Another Stock or 0 to Stop:  0\n"
     ]
    },
    {
     "name": "stdout",
     "output_type": "stream",
     "text": [
      "\n",
      "Manage Stocks\n",
      "1. Add Stock\n",
      "2. Update Shares\n",
      "3. Delete Stock\n",
      "4. List Stocks\n",
      "0. Exit Manage Stocks\n"
     ]
    },
    {
     "name": "stdin",
     "output_type": "stream",
     "text": [
      "Enter Menu Option:  2\n"
     ]
    },
    {
     "name": "stdout",
     "output_type": "stream",
     "text": [
      "\n",
      "Update Shares\n",
      "1. Buy Shares\n",
      "2. Sell Shares\n",
      "0. Exit Update Shares\n"
     ]
    },
    {
     "name": "stdin",
     "output_type": "stream",
     "text": [
      "Enter Menu Option:  1\n"
     ]
    },
    {
     "name": "stdout",
     "output_type": "stream",
     "text": [
      "\n",
      "Buy Shares\n",
      "Stock List: ['MSFT', 'APPL', 'MTA', 'NTFX']\n"
     ]
    },
    {
     "name": "stdin",
     "output_type": "stream",
     "text": [
      "Which stock do you want to buy?:  MSFT\n",
      "How many shares do you want to buy?:  7\n"
     ]
    },
    {
     "name": "stdout",
     "output_type": "stream",
     "text": [
      "\n",
      "Update Shares\n",
      "1. Buy Shares\n",
      "2. Sell Shares\n",
      "0. Exit Update Shares\n"
     ]
    },
    {
     "name": "stdin",
     "output_type": "stream",
     "text": [
      "Enter Menu Option:  2\n"
     ]
    },
    {
     "name": "stdout",
     "output_type": "stream",
     "text": [
      "\n",
      "Sell Shares\n",
      "Stock List: ['MSFT', 'APPL', 'MTA', 'NTFX']\n"
     ]
    },
    {
     "name": "stdin",
     "output_type": "stream",
     "text": [
      "Which stock do you want to sell?:  MSFT\n",
      "How many shares do you want to sell?:  5\n"
     ]
    },
    {
     "name": "stdout",
     "output_type": "stream",
     "text": [
      "\n",
      "Update Shares\n",
      "1. Buy Shares\n",
      "2. Sell Shares\n",
      "0. Exit Update Shares\n"
     ]
    },
    {
     "name": "stdin",
     "output_type": "stream",
     "text": [
      "Enter Menu Option:  0\n"
     ]
    },
    {
     "name": "stdout",
     "output_type": "stream",
     "text": [
      "\n",
      "Manage Stocks\n",
      "1. Add Stock\n",
      "2. Update Shares\n",
      "3. Delete Stock\n",
      "4. List Stocks\n",
      "0. Exit Manage Stocks\n"
     ]
    },
    {
     "name": "stdin",
     "output_type": "stream",
     "text": [
      "Enter Menu Option:  0\n"
     ]
    },
    {
     "name": "stdout",
     "output_type": "stream",
     "text": [
      "\n",
      "Stock Analyzer\n",
      "1. Manage Stocks (Add, Update, Delete, List)\n",
      "2. Add Daily Stock Data (Date, Price, Volume)\n",
      "3. Show Report\n",
      "4. Show Chart\n",
      "5. Manage Data (Save, Load, Retrieve)\n",
      "0. Exit Program\n"
     ]
    },
    {
     "name": "stdin",
     "output_type": "stream",
     "text": [
      "Enter Menu Option:  2\n"
     ]
    },
    {
     "name": "stdout",
     "output_type": "stream",
     "text": [
      "\n",
      "Add Daily Stock Data ----\n",
      "Stock List: ['MSFT', 'APPL', 'MTA', 'NTFX']\n"
     ]
    },
    {
     "name": "stdin",
     "output_type": "stream",
     "text": [
      "Which stock do you want to use?:  MSFT\n"
     ]
    },
    {
     "name": "stdout",
     "output_type": "stream",
     "text": [
      "Ready to add data for:  MSFT\n",
      "Enter Data Separated by Commas – Do Not use Spaces\n",
      "Enter a Blank Line to Quit\n",
      "Enter Date,Price,Volume (Example: 8/28/20,47.85,10550)\n"
     ]
    },
    {
     "name": "stdin",
     "output_type": "stream",
     "text": [
      "Enter Date,Price,Volume:  4/9/22,475,456\n"
     ]
    },
    {
     "name": "stdout",
     "output_type": "stream",
     "text": [
      "Data added.\n"
     ]
    },
    {
     "name": "stdin",
     "output_type": "stream",
     "text": [
      "Enter Date,Price,Volume:  4/6/23,147,254\n"
     ]
    },
    {
     "name": "stdout",
     "output_type": "stream",
     "text": [
      "Data added.\n"
     ]
    },
    {
     "name": "stdin",
     "output_type": "stream",
     "text": [
      "Enter Date,Price,Volume:  4/6/21,147,566\n"
     ]
    },
    {
     "name": "stdout",
     "output_type": "stream",
     "text": [
      "Data added.\n"
     ]
    },
    {
     "name": "stdin",
     "output_type": "stream",
     "text": [
      "Enter Date,Price,Volume:  \n"
     ]
    },
    {
     "name": "stdout",
     "output_type": "stream",
     "text": [
      "\n",
      "Stock Analyzer\n",
      "1. Manage Stocks (Add, Update, Delete, List)\n",
      "2. Add Daily Stock Data (Date, Price, Volume)\n",
      "3. Show Report\n",
      "4. Show Chart\n",
      "5. Manage Data (Save, Load, Retrieve)\n",
      "0. Exit Program\n"
     ]
    },
    {
     "name": "stdin",
     "output_type": "stream",
     "text": [
      "Enter Menu Option:  3\n"
     ]
    },
    {
     "name": "stdout",
     "output_type": "stream",
     "text": [
      "\n",
      "Stock Report\n",
      "\n",
      "Ticker: MSFT\n",
      "Data Points    : 3\n",
      "Average Price  : $256.33\n",
      "Total Volume   : 1276\n",
      "High Price     : $475.00\n",
      "Low Price      : $147.00\n"
     ]
    },
    {
     "name": "stdin",
     "output_type": "stream",
     "text": [
      "Press Enter to Continue *** \n"
     ]
    },
    {
     "name": "stdout",
     "output_type": "stream",
     "text": [
      "\n",
      "Stock Analyzer\n",
      "1. Manage Stocks (Add, Update, Delete, List)\n",
      "2. Add Daily Stock Data (Date, Price, Volume)\n",
      "3. Show Report\n",
      "4. Show Chart\n",
      "5. Manage Data (Save, Load, Retrieve)\n",
      "0. Exit Program\n"
     ]
    },
    {
     "name": "stdin",
     "output_type": "stream",
     "text": [
      "Enter Menu Option:  5\n"
     ]
    },
    {
     "name": "stdout",
     "output_type": "stream",
     "text": [
      "\n",
      "Manage Data\n",
      "1. Save Data\n",
      "2. Load Data\n",
      "3. Retrieve Data From Web\n",
      "4. Import Data from CSV\n",
      "0. Exit Manage Data\n"
     ]
    },
    {
     "name": "stdin",
     "output_type": "stream",
     "text": [
      "Enter Menu Option:  3\n"
     ]
    },
    {
     "name": "stdout",
     "output_type": "stream",
     "text": [
      "\n",
      "Retrieving Stock Data from Yahoo!\n"
     ]
    },
    {
     "name": "stdin",
     "output_type": "stream",
     "text": [
      "Enter starting date (MM/DD/YY):  05/12/19\n",
      "Enter ending date (MM/DD/YY):  05/01/24\n"
     ]
    },
    {
     "name": "stdout",
     "output_type": "stream",
     "text": [
      "Fetching data for MSFT...\n",
      "Fetching data for APPL...\n",
      "Fetching data for MTA...\n",
      "Fetching data for NTFX...\n",
      "\n",
      "Records Retrieved: 0\n"
     ]
    },
    {
     "name": "stdin",
     "output_type": "stream",
     "text": [
      "Press Enter to Continue \n"
     ]
    },
    {
     "name": "stdout",
     "output_type": "stream",
     "text": [
      "\n",
      "Manage Data\n",
      "1. Save Data\n",
      "2. Load Data\n",
      "3. Retrieve Data From Web\n",
      "4. Import Data from CSV\n",
      "0. Exit Manage Data\n"
     ]
    },
    {
     "name": "stdin",
     "output_type": "stream",
     "text": [
      "Enter Menu Option:  1\n"
     ]
    },
    {
     "name": "stdout",
     "output_type": "stream",
     "text": [
      "Data saved successfully.\n",
      "\n",
      "Manage Data\n",
      "1. Save Data\n",
      "2. Load Data\n",
      "3. Retrieve Data From Web\n",
      "4. Import Data from CSV\n",
      "0. Exit Manage Data\n"
     ]
    },
    {
     "name": "stdin",
     "output_type": "stream",
     "text": [
      "Enter Menu Option:  2\n"
     ]
    },
    {
     "name": "stdout",
     "output_type": "stream",
     "text": [
      "Data loaded successfully.\n",
      "\n",
      "Manage Data\n",
      "1. Save Data\n",
      "2. Load Data\n",
      "3. Retrieve Data From Web\n",
      "4. Import Data from CSV\n",
      "0. Exit Manage Data\n"
     ]
    },
    {
     "name": "stdin",
     "output_type": "stream",
     "text": [
      "Enter Menu Option:  3\n"
     ]
    },
    {
     "name": "stdout",
     "output_type": "stream",
     "text": [
      "\n",
      "Retrieving Stock Data from Yahoo!\n"
     ]
    },
    {
     "name": "stdin",
     "output_type": "stream",
     "text": [
      "Enter starting date (MM/DD/YY):  01/01/22\n",
      "Enter ending date (MM/DD/YY):  02/01/23\n"
     ]
    },
    {
     "name": "stdout",
     "output_type": "stream",
     "text": [
      "Fetching data for MSFT...\n",
      "Fetching data for APPL...\n",
      "Fetching data for MTA...\n",
      "Fetching data for NTFX...\n",
      "\n",
      "Records Retrieved: 0\n"
     ]
    },
    {
     "name": "stdin",
     "output_type": "stream",
     "text": [
      "Press Enter to Continue \n"
     ]
    },
    {
     "name": "stdout",
     "output_type": "stream",
     "text": [
      "\n",
      "Manage Data\n",
      "1. Save Data\n",
      "2. Load Data\n",
      "3. Retrieve Data From Web\n",
      "4. Import Data from CSV\n",
      "0. Exit Manage Data\n"
     ]
    },
    {
     "name": "stdin",
     "output_type": "stream",
     "text": [
      "Enter Menu Option:  1\n"
     ]
    },
    {
     "name": "stdout",
     "output_type": "stream",
     "text": [
      "Data saved successfully.\n",
      "\n",
      "Manage Data\n",
      "1. Save Data\n",
      "2. Load Data\n",
      "3. Retrieve Data From Web\n",
      "4. Import Data from CSV\n",
      "0. Exit Manage Data\n"
     ]
    },
    {
     "name": "stdin",
     "output_type": "stream",
     "text": [
      "Enter Menu Option:  2\n"
     ]
    },
    {
     "name": "stdout",
     "output_type": "stream",
     "text": [
      "Data loaded successfully.\n",
      "\n",
      "Manage Data\n",
      "1. Save Data\n",
      "2. Load Data\n",
      "3. Retrieve Data From Web\n",
      "4. Import Data from CSV\n",
      "0. Exit Manage Data\n"
     ]
    },
    {
     "name": "stdin",
     "output_type": "stream",
     "text": [
      "Enter Menu Option:  \n"
     ]
    },
    {
     "name": "stdout",
     "output_type": "stream",
     "text": [
      "Invalid option\n",
      "\n",
      "Manage Data\n",
      "1. Save Data\n",
      "2. Load Data\n",
      "3. Retrieve Data From Web\n",
      "4. Import Data from CSV\n",
      "0. Exit Manage Data\n"
     ]
    },
    {
     "name": "stdin",
     "output_type": "stream",
     "text": [
      "Enter Menu Option:  \n"
     ]
    },
    {
     "name": "stdout",
     "output_type": "stream",
     "text": [
      "Invalid option\n",
      "\n",
      "Manage Data\n",
      "1. Save Data\n",
      "2. Load Data\n",
      "3. Retrieve Data From Web\n",
      "4. Import Data from CSV\n",
      "0. Exit Manage Data\n"
     ]
    },
    {
     "name": "stdin",
     "output_type": "stream",
     "text": [
      "Enter Menu Option:  0\n"
     ]
    },
    {
     "name": "stdout",
     "output_type": "stream",
     "text": [
      "\n",
      "Stock Analyzer\n",
      "1. Manage Stocks (Add, Update, Delete, List)\n",
      "2. Add Daily Stock Data (Date, Price, Volume)\n",
      "3. Show Report\n",
      "4. Show Chart\n",
      "5. Manage Data (Save, Load, Retrieve)\n",
      "0. Exit Program\n"
     ]
    },
    {
     "name": "stdin",
     "output_type": "stream",
     "text": [
      "Enter Menu Option:  4\n"
     ]
    },
    {
     "name": "stdout",
     "output_type": "stream",
     "text": [
      "\n",
      "Show Chart\n",
      "Stock List: ['MSFT', 'APPL', 'MTA', 'NTFX']\n"
     ]
    },
    {
     "name": "stdin",
     "output_type": "stream",
     "text": [
      "Which stock to chart?:  MSFT\n"
     ]
    },
    {
     "data": {
      "image/png": "[encoded data removed]",
      "text/plain": [
       "<Figure size 1000x500 with 1 Axes>"
      ]
     },
     "metadata": {},
     "output_type": "display_data"
    },
    {
     "name": "stdout",
     "output_type": "stream",
     "text": [
      "\n",
      "Stock Analyzer\n",
      "1. Manage Stocks (Add, Update, Delete, List)\n",
      "2. Add Daily Stock Data (Date, Price, Volume)\n",
      "3. Show Report\n",
      "4. Show Chart\n",
      "5. Manage Data (Save, Load, Retrieve)\n",
      "0. Exit Program\n"
     ]
    }
   ],
   "source": [
    "\n",
    "import json\n",
    "import os\n",
    "import csv\n",
    "import time\n",
    "from datetime import datetime\n",
    "import matplotlib.pyplot as plt\n",
    "from selenium import webdriver\n",
    "from selenium.webdriver.chrome.options import Options\n",
    "from bs4 import BeautifulSoup\n",
    "\n",
    "stocks = {}\n",
    "stock_data = {}\n",
    "\n",
    "def manage_stocks():\n",
    "    while True:\n",
    "        print(\"\\nManage Stocks\")\n",
    "        print(\"1. Add Stock\")\n",
    "        print(\"2. Update Shares\")\n",
    "        print(\"3. Delete Stock\")\n",
    "        print(\"4. List Stocks\")\n",
    "        print(\"0. Exit Manage Stocks\")\n",
    "        option= input(\"Enter Menu Option: \")\n",
    "\n",
    "        if option == \"1\":\n",
    "            add_stock()\n",
    "        elif option == \"2\":\n",
    "            update_shares()\n",
    "        elif option == \"3\":\n",
    "            delete_stock()\n",
    "        elif option == \"4\":\n",
    "            list_stocks()\n",
    "        elif option == \"0\":\n",
    "            break\n",
    "        else:\n",
    "            print(\"Invalid option\")\n",
    "\n",
    "def add_stock():\n",
    "    while True:\n",
    "        print(\"\\nAdd Stock\")\n",
    "        ticker = input(\"Enter Ticker Symbol: \").upper()\n",
    "        company = input(\"Enter Company Name: \").upper()\n",
    "        try:\n",
    "            shares = float(input(\"Enter Number of Shares: \"))\n",
    "        except ValueError:\n",
    "            print(\"Invalid number of shares.\")\n",
    "            continue\n",
    "        stocks[ticker] = {'name': company, 'shares': shares}\n",
    "        print(\"Stock Added\")\n",
    "        cont = input(\"Enter to Add Another Stock or 0 to Stop: \")\n",
    "        if cont == \"0\":\n",
    "            break\n",
    "\n",
    "def update_shares():\n",
    "    while True:\n",
    "        print(\"\\nUpdate Shares\")\n",
    "        print(\"1. Buy Shares\")\n",
    "        print(\"2. Sell Shares\")\n",
    "        print(\"0. Exit Update Shares\")\n",
    "        option = input(\"Enter Menu Option: \")\n",
    "        if option == \"1\":\n",
    "            buy_shares()\n",
    "        elif option == \"2\":\n",
    "            sell_shares()\n",
    "        elif option == \"0\":\n",
    "            break\n",
    "        else:\n",
    "            print(\"Invalid option\")\n",
    "\n",
    "def buy_shares():\n",
    "    print(\"\\nBuy Shares\")\n",
    "    if not stocks:\n",
    "        print(\"No stocks available.\")\n",
    "        return\n",
    "    print(\"Stock List:\", list(stocks.keys()))\n",
    "    ticker = input(\"Which stock do you want to buy?: \").upper()\n",
    "    if ticker in stocks:\n",
    "        try:\n",
    "            qty = float(input(\"How many shares do you want to buy?: \"))\n",
    "            stocks[ticker]['shares'] += qty\n",
    "        except ValueError:\n",
    "            print(\"Invalid quantity.\")\n",
    "    else:\n",
    "        print(\"Stock not found.\")\n",
    "\n",
    "def sell_shares():\n",
    "    print(\"\\nSell Shares\")\n",
    "    if not stocks:\n",
    "        print(\"No stocks available.\")\n",
    "        return\n",
    "    print(\"Stock List:\", list(stocks.keys()))\n",
    "    ticker = input(\"Which stock do you want to sell?: \").upper()\n",
    "    if ticker in stocks:\n",
    "        try:\n",
    "            qty = float(input(\"How many shares do you want to sell?: \"))\n",
    "            if qty <= stocks[ticker]['shares']:\n",
    "                stocks[ticker]['shares'] -= qty\n",
    "            else:\n",
    "                print(\"Not enough shares to sell.\")\n",
    "        except ValueError:\n",
    "            print(\"Invalid quantity.\")\n",
    "    else:\n",
    "        print(\"Stock not found.\")\n",
    "\n",
    "def delete_stock():\n",
    "    print(\"\\nDelete the Stock\")\n",
    "    if not stocks:\n",
    "        print(\"No stocks to delete.\")\n",
    "        return\n",
    "    print(\"Stock List:\", list(stocks.keys()))\n",
    "    ticker = input(\"Which stock to delete?: \").upper()\n",
    "    if ticker in stocks:\n",
    "        del stocks[ticker]\n",
    "        stock_data.pop(ticker, None)\n",
    "        print(\"Stock deleted successfully.\")\n",
    "    else:\n",
    "        print(\"Stock not found.\")\n",
    "\n",
    "def list_stocks():\n",
    "    print(\"\\nStock List\")\n",
    "    print(f\"{'SYMBOL':<10}{'NAME':<20}{'SHARES':<10}\")\n",
    "    print(\"=\" * 40)\n",
    "    for ticker, info in stocks.items():\n",
    "        print(f\"{ticker:<10}{info['name']:<20}{info['shares']:<10.1f}\")\n",
    "    input(\"Click Enter to Continue\")\n",
    "\n",
    "def add_daily_stock_data():\n",
    "    print(\"\\nAdd Daily Stock Data ----\")\n",
    "    if not stocks:\n",
    "        print(\"No stocks available.\")\n",
    "        return\n",
    "    print(\"Stock List:\", list(stocks.keys()))\n",
    "    ticker = input(\"Which stock do you want to use?: \").upper()\n",
    "    if ticker not in stocks:\n",
    "        print(\"Stock not found.\")\n",
    "        return\n",
    "    print(f\"Ready to add data for:  {ticker}\")\n",
    "    print(\"Enter Data Separated by Commas – Do Not use Spaces\")\n",
    "    print(\"Enter a Blank Line to Quit\")\n",
    "    print(\"Enter Date,Price,Volume (Example: 8/28/20,47.85,10550)\")\n",
    "    if ticker not in stock_data:\n",
    "        stock_data[ticker] = []\n",
    "    while True:\n",
    "        entry = input(\"Enter Date,Price,Volume: \")\n",
    "        if entry.strip() == \"\":\n",
    "            break\n",
    "        try:\n",
    "            date, price, volume = entry.split(\",\")\n",
    "            stock_data[ticker].append({\n",
    "                \"date\": date.strip(),\n",
    "                \"price\": float(price.strip()),\n",
    "                \"volume\": int(volume.strip())\n",
    "            })\n",
    "            print(\"Data added.\")\n",
    "        except ValueError:\n",
    "            print(\"Invalid format. Please enter as Date,Price,Volume.\")\n",
    "\n",
    "def show_report():\n",
    "    print(\"\\nStock Report\")\n",
    "    if not stock_data:\n",
    "        print(\"No stock data available.\")\n",
    "        return\n",
    "    for ticker, data in stock_data.items():\n",
    "        prices = [entry['price'] for entry in data]\n",
    "        volumes = [entry['volume'] for entry in data]\n",
    "        print(f\"\\nTicker: {ticker}\")\n",
    "        print(f\"{'Data Points':<15}: {len(data)}\")\n",
    "        print(f\"{'Average Price':<15}: ${sum(prices)/len(prices):.2f}\")\n",
    "        print(f\"{'Total Volume':<15}: {sum(volumes)}\")\n",
    "        print(f\"{'High Price':<15}: ${max(prices):.2f}\")\n",
    "        print(f\"{'Low Price':<15}: ${min(prices):.2f}\")\n",
    "    input(\"Press Enter to Continue ***\")\n",
    "\n",
    "def show_chart():\n",
    "    print(\"\\nShow Chart\")\n",
    "    if not stock_data:\n",
    "        print(\"No stock data available.\")\n",
    "        return\n",
    "    print(\"Stock List:\", list(stock_data.keys()))\n",
    "    ticker = input(\"Which stock to chart?: \").upper()\n",
    "    if ticker not in stock_data or not stock_data[ticker]:\n",
    "        print(\"Stock not found or has no data.\")\n",
    "        return\n",
    "    data = sorted(stock_data[ticker], key=lambda x: datetime.strptime(x['date'], \"%m/%d/%y\"))\n",
    "    dates = [datetime.strptime(entry['date'], \"%m/%d/%y\") for entry in data]\n",
    "    prices = [entry['price'] for entry in data]\n",
    "    plt.figure(figsize=(10, 5))\n",
    "    plt.plot(dates, prices, marker='o')\n",
    "    plt.title(f\"Price Trend for {ticker}\")\n",
    "    plt.xlabel(\"Date\")\n",
    "    plt.ylabel(\"Price ($)\")\n",
    "    plt.grid(True)\n",
    "    plt.tight_layout()\n",
    "    plt.show()\n",
    "\n",
    "def retrieve_data_selenium():\n",
    "    print(\"\\nRetrieving Stock Data from Yahoo!\")\n",
    "    if not stocks:\n",
    "        print(\"No stocks in your stock list\")\n",
    "        return\n",
    "    start_date = input(\"Enter starting date (MM/DD/YY): \")\n",
    "    end_date = input(\"Enter ending date (MM/DD/YY): \")\n",
    "    total_records = 0\n",
    "    options = Options()\n",
    "    options.add_argument(\"--headless\")\n",
    "    driver = webdriver.Chrome(options=options)\n",
    "    for ticker in stocks:\n",
    "        print(f\"Fetching data for {ticker}...\")\n",
    "        url = f\"https://finance.yahoo.com/quote/{ticker}/history\"\n",
    "        driver.get(url)\n",
    "        time.sleep(3)\n",
    "        soup = BeautifulSoup(driver.page_source, \"html.parser\")\n",
    "        rows = soup.select('table[data-test=\"historical-prices\"] tbody tr')\n",
    "        if ticker not in stock_data:\n",
    "            stock_data[ticker] = []\n",
    "        for row in rows:\n",
    "            cols = row.find_all(\"td\")\n",
    "            if len(cols) < 6:\n",
    "                continue\n",
    "            try:\n",
    "                date_str = cols[0].text.strip()\n",
    "                close_price = cols[4].text.replace(\",\", \"\")\n",
    "                volume = cols[6].text.replace(\",\", \"\").replace(\"-\", \"0\")\n",
    "                stock_data[ticker].append({\n",
    "                    \"date\": date_str,\n",
    "                    \"price\": float(close_price),\n",
    "                    \"volume\": int(volume)\n",
    "                })\n",
    "                total_records += 1\n",
    "            except Exception:\n",
    "                continue\n",
    "    driver.quit()\n",
    "    print(f\"\\nRecords Retrieved: {total_records}\")\n",
    "    input(\"Press Enter to Continue\")\n",
    "\n",
    "def import_data_from_csv():\n",
    "    print(\"\\nImport Data from CSV\")\n",
    "    ticker = input(\"Enter ticker symbol for this data: \").upper()\n",
    "    filename = input(\"Enter CSV file path: \")\n",
    "    if ticker not in stock_data:\n",
    "        stock_data[ticker] = []\n",
    "    try:\n",
    "        with open(filename, newline='') as f:\n",
    "            reader = csv.DictReader(f)\n",
    "            for row in reader:\n",
    "                try:\n",
    "                    stock_data[ticker].append({\n",
    "                        \"date\": row['Date'],\n",
    "                        \"price\": float(row['Close']),\n",
    "                        \"volume\": int(row['Volume'].replace(\",\", \"\"))\n",
    "                    })\n",
    "                except Exception as e:\n",
    "                    print(f\"Skipping row: {row} due to error: {e}\")\n",
    "        print(f\"Data imported for {ticker}\")\n",
    "    except FileNotFoundError:\n",
    "        print(\"CSV file not found.\")\n",
    "    input(\"Press Enter to Continue\")\n",
    "\n",
    "def save_data():\n",
    "    with open(\"stocks.json\", \"w\") as f:\n",
    "        json.dump(stocks, f)\n",
    "    with open(\"stock_data.json\", \"w\") as f:\n",
    "        json.dump(stock_data, f)\n",
    "    print(\"Data saved successfully.\")\n",
    "\n",
    "def load_data():\n",
    "    global stocks, stock_data\n",
    "    if os.path.exists(\"stocks.json\"):\n",
    "        with open(\"stocks.json\", \"r\") as f:\n",
    "            stocks = json.load(f)\n",
    "    if os.path.exists(\"stock_data.json\"):\n",
    "        with open(\"stock_data.json\", \"r\") as f:\n",
    "            stock_data = json.load(f)\n",
    "    print(\"Data loaded successfully.\")\n",
    "\n",
    "def manage_data():\n",
    "    while True:\n",
    "        print(\"\\nManage Data\")\n",
    "        print(\"1. Save Data\")\n",
    "        print(\"2. Load Data\")\n",
    "        print(\"3. Retrieve Data From Web\")\n",
    "        print(\"4. Import Data from CSV\")\n",
    "        print(\"0. Exit Manage Data\")\n",
    "        option = input(\"Enter Menu Option: \")\n",
    "        if option == \"1\":\n",
    "            save_data()\n",
    "        elif option == \"2\":\n",
    "            load_data()\n",
    "        elif option == \"3\":\n",
    "            retrieve_data_selenium()\n",
    "        elif option == \"4\":\n",
    "            import_data_from_csv()\n",
    "        elif option == \"0\":\n",
    "            break\n",
    "        else:\n",
    "            print(\"Invalid option\")\n",
    "\n",
    "def main_menu():\n",
    "    while True:\n",
    "        print(\"\\nStock Analyzer\")\n",
    "        print(\"1. Manage Stocks (Add, Update, Delete, List)\")\n",
    "        print(\"2. Add Daily Stock Data (Date, Price, Volume)\")\n",
    "        print(\"3. Show Report\")\n",
    "        print(\"4. Show Chart\")\n",
    "        print(\"5. Manage Data (Save, Load, Retrieve)\")\n",
    "        print(\"0. Exit Program\")\n",
    "        option = input(\"Enter Menu Option: \")\n",
    "        if option == \"1\":\n",
    "            manage_stocks()\n",
    "        elif option == \"2\":\n",
    "            add_daily_stock_data()\n",
    "        elif option == \"3\":\n",
    "            show_report()\n",
    "        elif option == \"4\":\n",
    "            show_chart()\n",
    "        elif option == \"5\":\n",
    "            manage_data()\n",
    "        elif option == \"0\":\n",
    "            print(\"Exiting program.\")\n",
    "            break\n",
    "        else:\n",
    "            print(\"Invalid option\")\n",
    "\n",
    "if __name__ == \"__main__\":\n",
    "    main_menu()\n"
   ]
  },
  {
   "cell_type": "code",
   "execution_count": null,
   "id": "b4d38e84-9b9f-4607-a16b-fdff5f07324a",
   "metadata": {},
   "outputs": [],
   "source": []
  }
 ],
 "metadata": {
  "kernelspec": {
   "display_name": "Python [conda env:base] *",
   "language": "python",
   "name": "conda-base-py"
  },
  "language_info": {
   "codemirror_mode": {
    "name": "ipython",
    "version": 3
   },
   "file_extension": ".py",
   "mimetype": "text/x-python",
   "name": "python",
   "nbconvert_exporter": "python",
   "pygments_lexer": "ipython3",
   "version": "3.12.7"
  }
 },
 "nbformat": 4,
 "nbformat_minor": 5
}
